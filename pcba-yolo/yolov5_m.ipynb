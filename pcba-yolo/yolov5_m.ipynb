{
 "cells": [
  {
   "cell_type": "code",
   "execution_count": null,
   "outputs": [],
   "source": [
    "!ls"
   ],
   "metadata": {
    "collapsed": false
   }
  },
  {
   "cell_type": "code",
   "execution_count": null,
   "outputs": [],
   "source": [
    "!nvidia-smi"
   ],
   "metadata": {
    "collapsed": false
   }
  },
  {
   "cell_type": "markdown",
   "source": [
    "原模型，带预训练权重"
   ],
   "metadata": {
    "collapsed": false
   }
  },
  {
   "cell_type": "code",
   "execution_count": null,
   "metadata": {
    "collapsed": true
   },
   "outputs": [],
   "source": [
    "!python train.py --weights 'yolov5s.pt' --data 'coco3000.yaml' --epochs 100 --batch-size 16 --name 'yolov5s' && shutdown > train.log 2>&1"
   ]
  },
  {
   "cell_type": "markdown",
   "source": [
    "原模型，未带预训练权重"
   ],
   "metadata": {
    "collapsed": false
   }
  },
  {
   "cell_type": "code",
   "execution_count": null,
   "outputs": [],
   "source": [
    "!python train.py --weights '' --cfg 'yolov5s.yaml' --data 'coco3000.yaml' --epochs 100 --batch-size 8 --name 'yolov5s' && shutdown > train.log 2>&1"
   ],
   "metadata": {
    "collapsed": false
   }
  },
  {
   "cell_type": "code",
   "execution_count": null,
   "outputs": [],
   "source": [
    "!python train.py --weights '' --cfg 'yolov5s.yaml' --data 'coco3000.yaml' --epochs 200 --batch-size 16 --name 'yolov5s200' && shutdown > train.log 2>&1"
   ],
   "metadata": {
    "collapsed": false
   }
  },
  {
   "cell_type": "markdown",
   "source": [
    "SE注意力机制"
   ],
   "metadata": {
    "collapsed": false
   }
  },
  {
   "cell_type": "code",
   "execution_count": null,
   "outputs": [],
   "source": [
    "!python train.py --weights '' --cfg 'yolov5-se.yaml' --data 'coco3000.yaml' --epochs 100 --batch-size 8 --name 'yolov5-se' && shutdown > train.log 2>&1"
   ],
   "metadata": {
    "collapsed": false
   }
  },
  {
   "cell_type": "markdown",
   "source": [
    "Ghost卷积+SE注意力机制+SPPFCSPC空间特征金字塔"
   ],
   "metadata": {
    "collapsed": false
   }
  },
  {
   "cell_type": "code",
   "execution_count": null,
   "outputs": [],
   "source": [
    "!python train.py --weights '' --cfg 'yolov5_ghost_se_sppfcspc.yaml' --data 'coco3000.yaml' --epochs 100 --batch-size 8 --name 'yolov5-gss' && shutdown > train.log 2>&1"
   ],
   "metadata": {
    "collapsed": false
   }
  },
  {
   "cell_type": "markdown",
   "source": [
    "Ghost卷积"
   ],
   "metadata": {
    "collapsed": false
   }
  },
  {
   "cell_type": "code",
   "execution_count": null,
   "outputs": [],
   "source": [
    "!python train.py --weights '' --cfg 'yolov5s-ghost.yaml' --data 'coco3000.yaml' --epochs 100 --batch-size 8 --name 'yolov5-ghost' && shutdown > train.log 2>&1"
   ],
   "metadata": {
    "collapsed": false
   }
  },
  {
   "cell_type": "markdown",
   "source": [
    "CA in neck"
   ],
   "metadata": {
    "collapsed": false
   }
  },
  {
   "cell_type": "code",
   "execution_count": null,
   "outputs": [],
   "source": [
    "!python train.py --weights '' --cfg 'yolov5-ca.yaml' --data 'coco3000.yaml' --epochs 100 --batch-size 8 --name 'yolov5-ca' && shutdown > train.log 2>&1"
   ],
   "metadata": {
    "collapsed": false
   }
  },
  {
   "cell_type": "markdown",
   "source": [
    "SE注意力+SPPFCSPC空间特征金字塔"
   ],
   "metadata": {
    "collapsed": false
   }
  },
  {
   "cell_type": "code",
   "execution_count": null,
   "outputs": [],
   "source": [
    "!python train.py --weights '' --cfg 'yolov5-se-sppfcspc.yaml' --data 'coco3000.yaml' --epochs 100 --batch-size 8 --name 'yolov5-se-sppfcspc' && shutdown > train.log 2>&1"
   ],
   "metadata": {
    "collapsed": false
   }
  },
  {
   "cell_type": "markdown",
   "source": [
    "swin-transformer"
   ],
   "metadata": {
    "collapsed": false
   }
  },
  {
   "cell_type": "code",
   "execution_count": null,
   "outputs": [],
   "source": [
    "!python train.py --weights '' --cfg 'yolov5-swintransformer.yaml' --data 'coco3000.yaml' --epochs 100 --batch-size 8 --name 'yolov5-stf' && shutdown > train.log 2>&1"
   ],
   "metadata": {
    "collapsed": false
   }
  },
  {
   "cell_type": "markdown",
   "source": [
    "CA * 3 Attention in backbone"
   ],
   "metadata": {
    "collapsed": false
   }
  },
  {
   "cell_type": "code",
   "execution_count": null,
   "outputs": [],
   "source": [
    "!python train.py --weights '' --cfg 'yolov5-cacaca.yaml' --data 'coco3000.yaml' --epochs 100 --batch-size 8 --name 'yolov5-cacaca' && shutdown > train.log 2>&1"
   ],
   "metadata": {
    "collapsed": false
   }
  },
  {
   "cell_type": "markdown",
   "source": [
    "CA in backbone"
   ],
   "metadata": {
    "collapsed": false
   }
  },
  {
   "cell_type": "code",
   "execution_count": null,
   "outputs": [],
   "source": [
    "!python train.py --weights '' --cfg 'yolov5-cab.yaml' --data 'coco3000.yaml' --epochs 100 --batch-size 8 --name 'yolov5-cab' && shutdown > train.log 2>&1"
   ],
   "metadata": {
    "collapsed": false
   }
  },
  {
   "cell_type": "code",
   "execution_count": null,
   "outputs": [],
   "source": [
    "!python train.py --weights '' --cfg 'yolov5-cab.yaml' --data 'coco3000.yaml' --epochs 200 --batch-size 16 --name 'yolov5-cab200' && shutdown > train.log 2>&1"
   ],
   "metadata": {
    "collapsed": false
   }
  },
  {
   "cell_type": "markdown",
   "source": [],
   "metadata": {
    "collapsed": false
   }
  },
  {
   "cell_type": "markdown",
   "source": [],
   "metadata": {
    "collapsed": false
   }
  }
 ],
 "metadata": {
  "kernelspec": {
   "display_name": "Python 3",
   "language": "python",
   "name": "python3"
  },
  "language_info": {
   "codemirror_mode": {
    "name": "ipython",
    "version": 2
   },
   "file_extension": ".py",
   "mimetype": "text/x-python",
   "name": "python",
   "nbconvert_exporter": "python",
   "pygments_lexer": "ipython2",
   "version": "2.7.6"
  }
 },
 "nbformat": 4,
 "nbformat_minor": 0
}
